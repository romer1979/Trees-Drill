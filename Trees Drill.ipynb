{
 "cells": [
  {
   "cell_type": "code",
   "execution_count": 14,
   "metadata": {},
   "outputs": [],
   "source": [
    "# A node structure\n",
    "class Node:\n",
    "    def __init__(self, val):\n",
    "        self.val = val \n",
    "        self.left = None\n",
    "        self.right = None\n",
    "\n",
    "def order(root):\n",
    "    h = height(root)\n",
    "    for i in range(1, h+1):\n",
    "        level(root, i)\n",
    "        print()\n",
    "\n",
    "def level(root , l):\n",
    "    if root is None:\n",
    "        return\n",
    "    if l == 1:\n",
    "        print(\"%d\" %(root.val)),\n",
    "    elif l > 1 :\n",
    "        level(root.left , l-1)\n",
    "        level(root.right , l-1)\n",
    "\n",
    "def height(node):\n",
    "    if node is None:\n",
    "        return 0\n",
    "    else :\n",
    "        # Compute the height of each subtree \n",
    "        left_height = height(node.left)\n",
    "        right_height = height(node.right)\n",
    " \n",
    "        #Use the larger one\n",
    "        if left_height > right_height :\n",
    "            return left_height+1\n",
    "        else:\n",
    "            return right_height+1"
   ]
  },
  {
   "cell_type": "code",
   "execution_count": 15,
   "metadata": {},
   "outputs": [
    {
     "name": "stdout",
     "output_type": "stream",
     "text": [
      "1\n",
      "\n",
      "2\n",
      "3\n",
      "\n",
      "4\n",
      "5\n",
      "6\n",
      "7\n",
      "\n",
      "8\n",
      "9\n",
      "10\n",
      "11\n",
      "12\n",
      "13\n",
      "14\n",
      "15\n",
      "\n"
     ]
    }
   ],
   "source": [
    "root = Node(1)\n",
    "root.left = Node(2)\n",
    "root.right = Node(3)\n",
    "root.left.left = Node(4)\n",
    "root.left.right = Node(5)\n",
    "root.right.left = Node(6)\n",
    "root.right.right = Node(7)\n",
    "root.left.left.left = Node(8)\n",
    "root.left.left.right = Node(9)\n",
    "root.left.right.left = Node(10)\n",
    "root.left.right.right = Node(11)\n",
    "root.right.left.left = Node(12)\n",
    "root.right.left.right = Node(13)\n",
    "root.right.right.left = Node(14)\n",
    "root.right.right.right = Node(15)\n",
    "\n",
    "order(root)"
   ]
  },
  {
   "cell_type": "code",
   "execution_count": null,
   "metadata": {},
   "outputs": [],
   "source": []
  }
 ],
 "metadata": {
  "kernelspec": {
   "display_name": "Python 3",
   "language": "python",
   "name": "python3"
  },
  "language_info": {
   "codemirror_mode": {
    "name": "ipython",
    "version": 3
   },
   "file_extension": ".py",
   "mimetype": "text/x-python",
   "name": "python",
   "nbconvert_exporter": "python",
   "pygments_lexer": "ipython3",
   "version": "3.7.3"
  }
 },
 "nbformat": 4,
 "nbformat_minor": 2
}
